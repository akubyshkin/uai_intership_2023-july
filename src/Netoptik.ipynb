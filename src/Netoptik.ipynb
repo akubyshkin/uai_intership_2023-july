{
 "cells": [
  {
   "cell_type": "markdown",
   "source": [
    "# Загрузка кода в google colab"
   ],
   "metadata": {
    "collapsed": false
   }
  },
  {
   "cell_type": "code",
   "execution_count": null,
   "outputs": [],
   "source": [
    "!git clone https://github.com/akubyshkin/uai_intership_2023-july.git"
   ],
   "metadata": {
    "collapsed": false,
    "pycharm": {
     "name": "#%%\n"
    }
   }
  },
  {
   "cell_type": "markdown",
   "source": [
    "# Установка окружения"
   ],
   "metadata": {
    "collapsed": false
   }
  },
  {
   "cell_type": "code",
   "execution_count": null,
   "outputs": [],
   "source": [
    "# Окружение для старта Jupyter notebook нельзя установить из Juputer Notebook, поэтому некоторые строки ниже закомментированын.\n",
    "# Их нужно выполнить в консоли рукамии или с помощью скрипта scripts/init_env.sh\n",
    "# !python3 -m venv ../venv\n",
    "# !source ../venv/bin/activate\n",
    "# !python3 -m pip install jupyter\n",
    "\n",
    "!python3 -m pip install requests\n",
    "!python3 -m pip install lxml\n",
    "!python3 -m pip install beautifulsoup4"
   ],
   "metadata": {
    "collapsed": false,
    "pycharm": {
     "name": "#%%\n",
     "is_executing": true
    }
   }
  },
  {
   "cell_type": "markdown",
   "source": [
    "# Импорт модуля pythhon с кодом программы для google col ab"
   ],
   "metadata": {
    "collapsed": false
   }
  },
  {
   "cell_type": "code",
   "execution_count": null,
   "outputs": [],
   "source": [
    "import sys\n",
    "\n",
    "sys.path.append('uai_intership_2023-july/src')"
   ],
   "metadata": {
    "collapsed": false,
    "pycharm": {
     "name": "#%%\n"
    }
   }
  },
  {
   "cell_type": "markdown",
   "source": [
    "# Основной код программы. Относительные пути настроены для работы в google colab"
   ],
   "metadata": {
    "collapsed": false
   }
  },
  {
   "cell_type": "code",
   "execution_count": null,
   "metadata": {
    "collapsed": true,
    "pycharm": {
     "name": "#%%\n",
     "is_executing": true
    }
   },
   "outputs": [],
   "source": [
    "from bs4 import BeautifulSoup\n",
    "import NDataParser as parser\n",
    "import Loader as loader\n",
    "\n",
    "print('Start notebook')\n",
    "\n",
    "# ndata_xml = loader.get_url('https://www.netoptik.ru/yandexmarket.yml')\n",
    "ndata_xml = loader.read_from_disk('uai_intership_2023-july/resources/yandexmarket.yml')\n",
    "ndatas = parser.NDataParser(BeautifulSoup(ndata_xml, \"xml\")).parse()\n",
    "\n",
    "for offer in ndatas.offers:\n",
    "    loader.offer_images_downloader('uai_intership_2023-july/resources/images', offer)\n",
    "\n",
    "print('Done')"
   ]
  },
  {
   "cell_type": "markdown",
   "source": [
    "# Удаляем загруженные изображения"
   ],
   "metadata": {
    "collapsed": false
   }
  },
  {
   "cell_type": "code",
   "execution_count": null,
   "outputs": [],
   "source": [
    "! rm -rf uai_intership_2023-july/resources/images"
   ],
   "metadata": {
    "collapsed": false,
    "pycharm": {
     "name": "#%%\n"
    }
   }
  }
 ],
 "metadata": {
  "kernelspec": {
   "display_name": "Python 3",
   "language": "python",
   "name": "python3"
  },
  "language_info": {
   "codemirror_mode": {
    "name": "ipython",
    "version": 2
   },
   "file_extension": ".py",
   "mimetype": "text/x-python",
   "name": "python",
   "nbconvert_exporter": "python",
   "pygments_lexer": "ipython2",
   "version": "2.7.6"
  }
 },
 "nbformat": 4,
 "nbformat_minor": 0
}